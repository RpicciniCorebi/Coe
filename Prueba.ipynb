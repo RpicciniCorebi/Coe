{
  "nbformat": 4,
  "nbformat_minor": 0,
  "metadata": {
    "colab": {
      "provenance": [],
      "authorship_tag": "ABX9TyND3xKEXBovBhVrR0tAUyBz",
      "include_colab_link": true
    },
    "kernelspec": {
      "name": "python3",
      "display_name": "Python 3"
    },
    "language_info": {
      "name": "python"
    }
  },
  "cells": [
    {
      "cell_type": "markdown",
      "metadata": {
        "id": "view-in-github",
        "colab_type": "text"
      },
      "source": [
        "<a href=\"https://colab.research.google.com/github/RpicciniCorebi/Coe/blob/master/Prueba.ipynb\" target=\"_parent\"><img src=\"https://colab.research.google.com/assets/colab-badge.svg\" alt=\"Open In Colab\"/></a>"
      ]
    },
    {
      "cell_type": "code",
      "source": [
        "pip install looker_sdk"
      ],
      "metadata": {
        "colab": {
          "base_uri": "https://localhost:8080/"
        },
        "id": "mNONMFE95NMf",
        "outputId": "ea18ca30-098d-4e5b-91d0-f7edf8fc42fc"
      },
      "execution_count": 1,
      "outputs": [
        {
          "output_type": "stream",
          "name": "stdout",
          "text": [
            "Looking in indexes: https://pypi.org/simple, https://us-python.pkg.dev/colab-wheels/public/simple/\n",
            "Collecting looker_sdk\n",
            "  Downloading looker_sdk-23.6.0-py3-none-any.whl (348 kB)\n",
            "\u001b[2K     \u001b[90m━━━━━━━━━━━━━━━━━━━━━━━━━━━━━━━━━━━━━━━\u001b[0m \u001b[32m348.1/348.1 kB\u001b[0m \u001b[31m6.2 MB/s\u001b[0m eta \u001b[36m0:00:00\u001b[0m\n",
            "\u001b[?25hRequirement already satisfied: requests>=2.22 in /usr/local/lib/python3.10/dist-packages (from looker_sdk) (2.27.1)\n",
            "Requirement already satisfied: typing-extensions>=4.1.1 in /usr/local/lib/python3.10/dist-packages (from looker_sdk) (4.5.0)\n",
            "Requirement already satisfied: attrs>=20.1.0 in /usr/local/lib/python3.10/dist-packages (from looker_sdk) (23.1.0)\n",
            "Collecting cattrs>=1.3 (from looker_sdk)\n",
            "  Downloading cattrs-22.2.0-py3-none-any.whl (35 kB)\n",
            "Requirement already satisfied: exceptiongroup in /usr/local/lib/python3.10/dist-packages (from cattrs>=1.3->looker_sdk) (1.1.1)\n",
            "Requirement already satisfied: urllib3<1.27,>=1.21.1 in /usr/local/lib/python3.10/dist-packages (from requests>=2.22->looker_sdk) (1.26.15)\n",
            "Requirement already satisfied: certifi>=2017.4.17 in /usr/local/lib/python3.10/dist-packages (from requests>=2.22->looker_sdk) (2022.12.7)\n",
            "Requirement already satisfied: charset-normalizer~=2.0.0 in /usr/local/lib/python3.10/dist-packages (from requests>=2.22->looker_sdk) (2.0.12)\n",
            "Requirement already satisfied: idna<4,>=2.5 in /usr/local/lib/python3.10/dist-packages (from requests>=2.22->looker_sdk) (3.4)\n",
            "Installing collected packages: cattrs, looker_sdk\n",
            "Successfully installed cattrs-22.2.0 looker_sdk-23.6.0\n"
          ]
        }
      ]
    },
    {
      "cell_type": "code",
      "execution_count": 2,
      "metadata": {
        "colab": {
          "base_uri": "https://localhost:8080/"
        },
        "id": "nppP4wmm97cO",
        "outputId": "a4192f1f-213e-47ad-dbb6-07e5d7c1c777"
      },
      "outputs": [
        {
          "output_type": "stream",
          "name": "stdout",
          "text": [
            "All environment variables set.\n"
          ]
        }
      ],
      "source": [
        "import looker_sdk #Note that the pip install required a hyphen but the import is an underscore.\n",
        "\n",
        "import os #We import os here in order to manage environment variables for the tutorial. You don't need to do this on a local system or anywhere you can more conveniently set environment variables.\n",
        "\n",
        "import json #This is a handy library for doing JSON work.\n",
        "\n",
        "os.environ[\"LOOKERSDK_BASE_URL\"] = \"https://corebipartner.cloud.looker.com\" #If your looker URL has .cloud in it (hosted on GCP), do not include :19999 (ie: https://your.cloud.looker.com).\n",
        "os.environ[\"LOOKERSDK_API_VERSION\"] = \"4.0\" #3.1 is the default version. You can change this to 4.0 if you want.\n",
        "os.environ[\"LOOKERSDK_VERIFY_SSL\"] = \"true\" #Defaults to true if not set. SSL verification should generally be on unless you have a real good reason not to use it. Valid options: true, y, t, yes, 1.\n",
        "os.environ[\"LOOKERSDK_TIMEOUT\"] = \"120\" #Seconds till request timeout. Standard default is 120.\n",
        "\n",
        "#Get the following values from your Users page in the Admin panel of your Looker instance > Users > Your user > Edit API keys. If you know your user id, you can visit https://your.looker.com/admin/users/<your_user_id>/edit.\n",
        "os.environ[\"LOOKERSDK_CLIENT_ID\"] =  \"Zg5ZXV9jgRkS4PcF5KJ6\" #No defaults.\n",
        "os.environ[\"LOOKERSDK_CLIENT_SECRET\"] = \"zPBPXwwbpBF5K4HjMdq3R2yg\" #No defaults. This should be protected at all costs. Please do not leave it sitting here, even if you don't share this document.\n",
        "\n",
        "print(\"All environment variables set.\")\n"
      ]
    },
    {
      "cell_type": "code",
      "source": [
        "sdk = looker_sdk.init40()  # or init31() for the older v3.1 API\n",
        "my_user = sdk.me()\n",
        "\n",
        "# output can be treated like a dictionary\n",
        "print(my_user[\"first_name\"])\n",
        "\n",
        "# or a model instance (User in this case)\n",
        "print(my_user.last_name)"
      ],
      "metadata": {
        "colab": {
          "base_uri": "https://localhost:8080/"
        },
        "id": "_QF_l71O5qQD",
        "outputId": "1686cecc-465f-47f4-bc32-ca7f03819882"
      },
      "execution_count": 3,
      "outputs": [
        {
          "output_type": "stream",
          "name": "stdout",
          "text": [
            "Rodrigo\n",
            "Piccini\n"
          ]
        }
      ]
    },
    {
      "cell_type": "code",
      "source": [
        "#Enter your Look ID. If your URL is https://your.cloud.looker.com/looks/25, your Look ID is 25.\n",
        "look_id = '46'\n",
        "look = sdk.look(look_id=look_id) \n",
        "# This gives us a Look object. We'll print the ID of it to verify everything's working.\n",
        "\n",
        "print(look.id)\n",
        "\n",
        "#You actually don't need to do anything further for this case, using a Look. \n",
        "#If you wanted to use an Explore instead, you'd have to get the underlying query first, which might look like this:\n",
        "\n",
        "#explore_id = \"Q4pXny1FEtuxMuj9Atf0Gg\" \n",
        "#If your URL looks like https://your.cloud.looker.com/explore/ecommerce_data/order_items?qid=Q4pXny1FEtuxMuj9Atf0Gg&origin_space=15&toggle=vis, your explore_id/QID is Q4pXny1FEtuxMuj9Atf0Gg.\n",
        "#explore_query = sdk.query_for_slug(slug=explore_id)\n",
        "\n",
        "#This would return a Query object that we could then run to get results in step 2 using the run_query endpoints."
      ],
      "metadata": {
        "colab": {
          "base_uri": "https://localhost:8080/"
        },
        "id": "2hMXgOQoM1Ed",
        "outputId": "89b0834a-b8b2-4d89-88d9-2d181810d18c"
      },
      "execution_count": 5,
      "outputs": [
        {
          "output_type": "stream",
          "name": "stdout",
          "text": [
            "46\n"
          ]
        }
      ]
    },
    {
      "cell_type": "code",
      "source": [
        "#We'll use a try/except block here, to make debugging easier. \n",
        "#In general, this kind of thing isn't really necessary in notebooks as each cell is already isolated from the rest,\n",
        "#but it's a good practice in larger scripts and certainly in applications where fatal errors can break the entire app.\n",
        "#You should get into the habit of using them.\n",
        "\n",
        "try:\n",
        "  response = sdk.run_look(\n",
        "    look_id=look.id,\n",
        "    result_format= \"json\" # Options here are csv, json, json_detail, txt, html, md, xlsx, sql (returns the raw query), png, jpg. JSON is the easiest to work with in python, so we return it.\n",
        "  )\n",
        "  data = json.loads(response) #The response is just a string, so we have to use the json library to load it as a json dict.\n",
        "  print(data) #If our query was successful we should see an array of rows.\n",
        "except:\n",
        "  raise Exception(f'Error running look {look.id}')\n"
      ],
      "metadata": {
        "colab": {
          "base_uri": "https://localhost:8080/"
        },
        "id": "rD93J1XuasA1",
        "outputId": "8d437253-acef-4a7e-f303-760132bea484"
      },
      "execution_count": 6,
      "outputs": [
        {
          "output_type": "stream",
          "name": "stdout",
          "text": [
            "[{'products.brand': ''}, {'products.brand': '!it Jeans'}, {'products.brand': \"'47 Brand\"}, {'products.brand': '007Lingerie'}, {'products.brand': '106Shades'}, {'products.brand': '12XLShop Inc.'}, {'products.brand': '180s'}, {'products.brand': '1826'}, {'products.brand': '1WorldSarong'}, {'products.brand': '1veMoon'}, {'products.brand': '1vemoon'}, {'products.brand': '2(x)ist'}, {'products.brand': '2117 of Sweden'}, {'products.brand': '2XU'}, {'products.brand': '2b by bebe'}, {'products.brand': '35 Degree Below'}, {'products.brand': '4-rth'}, {'products.brand': '5 Seasons'}, {'products.brand': '525 America'}, {'products.brand': '555 Turnpike'}, {'products.brand': '55DSL'}, {'products.brand': '626 BLUE'}, {'products.brand': '66 North'}, {'products.brand': '7 Diamonds'}, {'products.brand': '7 For All Mankind'}, {'products.brand': '89th &#x0026; Madison'}, {'products.brand': 'A Christmas Story'}, {'products.brand': 'A Pea in the Pod'}, {'products.brand': 'A shore Fit'}, {'products.brand': 'A. Byer'}, {'products.brand': 'A.B.S. by Allen Schwartz'}, {'products.brand': 'A:X Armani Exchange'}, {'products.brand': 'ADAR UNIFORMS'}, {'products.brand': 'ADVADRI'}, {'products.brand': 'AG Adriano Goldschmied'}, {'products.brand': 'AGB'}, {'products.brand': 'AJs'}, {'products.brand': 'ALL BLACK'}, {'products.brand': 'AN1225'}, {'products.brand': 'ANS'}, {'products.brand': 'ANSAI'}, {'products.brand': 'ARROW'}, {'products.brand': 'ASICS'}, {'products.brand': 'Abercrombie & Fitch'}, {'products.brand': 'Abini'}, {'products.brand': 'Acne'}, {'products.brand': 'Active Products'}, {'products.brand': 'Activewear Apparel'}, {'products.brand': 'Acura'}, {'products.brand': 'Adi Designs'}, {'products.brand': 'Adriana'}, {'products.brand': 'Adrianna Papell'}, {'products.brand': 'Adventure Time'}, {'products.brand': 'Aegean'}, {'products.brand': 'Aerin Rose'}, {'products.brand': 'Aero Tech Designs'}, {'products.brand': 'Aeropostale'}, {'products.brand': 'Aerosoles'}, {'products.brand': 'Aetrex'}, {'products.brand': 'Affazy'}, {'products.brand': 'Affliction'}, {'products.brand': 'Aftco'}, {'products.brand': 'Agan Traders'}, {'products.brand': 'Agave'}, {'products.brand': 'Age Group'}, {'products.brand': 'Ahaarya'}, {'products.brand': 'Aimee Gowns'}, {'products.brand': 'Akademiks'}, {'products.brand': 'Akomplice'}, {'products.brand': 'Alan Sloane'}, {'products.brand': 'Alex Cannon'}, {'products.brand': 'Alex Evenings'}, {'products.brand': 'Alex Stevens'}, {'products.brand': 'Alexander Del Rossa'}, {'products.brand': 'Alexander Julian'}, {'products.brand': 'Alexanders'}, {'products.brand': 'Alfani'}, {'products.brand': 'Alfred Dunner'}, {'products.brand': 'Alia'}, {'products.brand': 'Alice & Trixie'}, {'products.brand': 'Alivila.Y Fashion'}, {'products.brand': \"Alki'i\"}, {'products.brand': 'Allegra K'}, {'products.brand': 'Allen Allen'}, {'products.brand': 'Aloha'}, {'products.brand': 'Alpha Industries'}, {'products.brand': 'Alpine Swiss'}, {'products.brand': 'Alpinestars'}, {'products.brand': 'Altamont'}, {'products.brand': 'Alternative'}, {'products.brand': 'Always Sunny In Philadelphia'}, {'products.brand': 'Amanda Uprichard'}, {'products.brand': 'Amazing Apparel'}, {'products.brand': 'Ambiguous'}, {'products.brand': 'AmeriBag'}, {'products.brand': 'American Apparel'}, {'products.brand': 'American Essentials'}, {'products.brand': 'American Fighter'}, {'products.brand': 'American Rag'}, {'products.brand': 'Ames'}, {'products.brand': 'Amethyst Jeans'}, {'products.brand': 'Amicale'}, {'products.brand': 'Amnesty International'}, {'products.brand': 'Analog'}, {'products.brand': 'Andrew Christian'}, {'products.brand': 'Anemone'}, {'products.brand': 'Anew'}, {'products.brand': 'Angelina'}, {'products.brand': 'Angelina Hosiery'}, {'products.brand': 'Angry Birds'}, {'products.brand': 'Animal Planet'}, {'products.brand': 'AnimalShirtsUSA'}, {'products.brand': 'Anita'}, {'products.brand': 'Anna-Kaci'}, {'products.brand': 'Annabelle'}, {'products.brand': 'Annalee + Hope'}, {'products.brand': 'Anne Cole'}, {'products.brand': 'Anne Klein'}, {'products.brand': 'Antigua'}, {'products.brand': 'Antique Rivet'}, {'products.brand': 'Anue'}, {'products.brand': 'Anvil'}, {'products.brand': 'Aqua'}, {'products.brand': 'Aqua Sphere'}, {'products.brand': 'Aquapro'}, {'products.brand': 'Arbor'}, {'products.brand': 'Arborwear'}, {'products.brand': \"Arc'teryx\"}, {'products.brand': 'Ardyss'}, {'products.brand': 'Arena'}, {'products.brand': 'Argenti'}, {'products.brand': 'AriZona'}, {'products.brand': 'Arianne'}, {'products.brand': 'Ariat'}, {'products.brand': 'Aris A'}, {'products.brand': 'Ark apparel'}, {'products.brand': 'Armada'}, {'products.brand': 'Armani'}, {'products.brand': 'Arnette'}, {'products.brand': 'Artex'}, {'products.brand': 'Artist Merch'}, {'products.brand': 'ArtsyClothingCompany'}, {'products.brand': 'Artwedding'}, {'products.brand': 'Aryn K'}, {'products.brand': 'As U Wish'}, {'products.brand': 'Ash City'}, {'products.brand': 'Ashworth'}, {'products.brand': \"Assassin's Creed III\"}, {'products.brand': 'Assets'}, {'products.brand': 'Athena'}, {'products.brand': 'Atlas'}, {'products.brand': 'Atti Fashion'}, {'products.brand': 'August Silk'}, {'products.brand': 'Augusta'}, {'products.brand': 'Austin Reed'}, {'products.brand': 'Authentic Pigment'}, {'products.brand': 'Autumn Cashmere'}, {'products.brand': 'Avenged Sevenfold'}, {'products.brand': 'Aventura'}, {'products.brand': 'Avenue'}, {'products.brand': 'Aviator'}, {'products.brand': 'Aviators'}, {'products.brand': 'Avital'}, {'products.brand': 'AxParis'}, {'products.brand': 'Axis'}, {'products.brand': 'Ayurvastram'}, {'products.brand': 'B. B. Jeans Fashion'}, {'products.brand': 'BANDOLINO'}, {'products.brand': 'BANDOLINOBLU'}, {'products.brand': 'BB'}, {'products.brand': 'BB Dakota'}, {'products.brand': 'BBC'}, {'products.brand': 'BBW Boutique'}, {'products.brand': 'BCBGMAXAZRIA'}, {'products.brand': 'BCBGeneration'}, {'products.brand': 'BCO'}, {'products.brand': 'BENNETT MALIBU'}, {'products.brand': 'BERLE'}, {'products.brand': 'BG'}, {'products.brand': 'BGSD'}, {'products.brand': 'BH Medwear'}, {'products.brand': 'BHPC By Miss London'}, {'products.brand': 'BIG STAR'}, {'products.brand': 'BIKINI LAB'}, {'products.brand': 'BKE'}, {'products.brand': 'BLOOMINGDALES'}, {'products.brand': 'BODYSLIMMERS Nancy Ganz'}, {'products.brand': 'BOTANY 500'}, {'products.brand': 'BUDSHOP'}, {'products.brand': 'Baboosh'}, {'products.brand': 'Baby Banz'}, {'products.brand': 'Baby Be Mine'}, {'products.brand': \"Baby'O Clothing Co.\"}, {'products.brand': 'Back to Back'}, {'products.brand': 'Back to Nature'}, {'products.brand': 'Badger'}, {'products.brand': 'Bag Girls'}, {'products.brand': 'Bailey'}, {'products.brand': 'Bailey 44'}, {'products.brand': 'Bajer'}, {'products.brand': 'Balega'}, {'products.brand': 'Bali'}, {'products.brand': 'Ballin'}, {'products.brand': 'Banana Republic'}, {'products.brand': 'Band Merch'}, {'products.brand': 'Bar III'}, {'products.brand': 'Barbour'}, {'products.brand': 'Barefoot Dreams'}, {'products.brand': 'Barely There'}, {'products.brand': 'Bargain Headbands'}, {'products.brand': 'Barmah Hats'}, {'products.brand': 'Barracuda'}, {'products.brand': 'Basic'}, {'products.brand': 'Baskit'}, {'products.brand': 'Bass'}, {'products.brand': 'Bathrobes Online'}, {'products.brand': 'Bauer'}, {'products.brand': 'Bayside Apparel'}, {'products.brand': 'Be Wicked'}, {'products.brand': 'Beach Joy'}, {'products.brand': 'Beach Native'}, {'products.brand': 'Beach Rays'}, {'products.brand': 'Bear Grylls'}, {'products.brand': 'Beardski'}, {'products.brand': 'Beauty and the Beach Blue Label'}, {'products.brand': 'Becca by Rebecca Virtue'}, {'products.brand': 'BedHead'}, {'products.brand': 'Belabumbum'}, {'products.brand': 'Belevation'}, {'products.brand': 'Bella'}, {'products.brand': 'Bella Materna'}, {'products.brand': 'BellaBand'}, {'products.brand': 'Bellfield'}, {'products.brand': 'Belly Armor'}, {'products.brand': 'Belly Bandit'}, {'products.brand': 'Belly Button'}, {'products.brand': 'BellyBra'}, {'products.brand': 'Belts.com'}, {'products.brand': 'BeltsandStuds'}, {'products.brand': 'Ben Davis'}, {'products.brand': 'Ben Sherman'}, {'products.brand': 'Bench'}, {'products.brand': \"Benny's\"}, {'products.brand': 'Berek'}, {'products.brand': 'Berkshire'}, {'products.brand': 'Bertolini'}, {'products.brand': 'Betsey Johnson'}, {'products.brand': 'Beverly Hills Basics'}, {'products.brand': 'Beyond Yoga'}, {'products.brand': 'Beza'}, {'products.brand': 'Bianca NygÃ¥rd'}, {'products.brand': 'Big Feet Pajama Co.'}, {'products.brand': 'Bigmansland'}, {'products.brand': 'Bikeraccess'}, {'products.brand': 'Bikinimo Swimwear'}, {'products.brand': 'Bill Blass'}, {'products.brand': \"Bill's Khakis\"}, {'products.brand': 'Billabong'}, {'products.brand': 'Billionaire Boys Club'}, {'products.brand': 'BirthandBaby'}, {'products.brand': 'Bitablue'}, {'products.brand': 'Bjorn Borg'}, {'products.brand': 'Blac Label'}, {'products.brand': 'Black Diamond'}, {'products.brand': 'Black Fuchsia'}, {'products.brand': 'Black Market-Lowbrow'}, {'products.brand': 'Black Web'}, {'products.brand': 'Blancq-Olibet'}, {'products.brand': 'Blanks'}, {'products.brand': 'Blanks Plus'}, {'products.brand': 'Blarney Woollen Mills'}, {'products.brand': 'Bleu Rod Beattie'}, {'products.brand': 'Blink Product Design'}, {'products.brand': \"Bloom's Outlet\"}, {'products.brand': \"Bloomingdale's\"}, {'products.brand': \"Bloomingdale's Now\"}, {'products.brand': 'Blue Banana'}, {'products.brand': 'Blue Juice'}, {'products.brand': 'Blue Line'}, {'products.brand': 'Blue Marlin'}, {'products.brand': 'Blue Plate'}, {'products.brand': 'Blue Q'}, {'products.brand': 'Blue Sky Swimwear'}, {'products.brand': 'Blue Star Inc'}, {'products.brand': 'Blue Star Inc.'}, {'products.brand': 'BluePrint'}, {'products.brand': 'Bluefin USA'}, {'products.brand': 'Blueprint'}, {'products.brand': 'Bobi'}, {'products.brand': 'Boca'}, {'products.brand': 'Boca Classics'}, {'products.brand': 'Boconi'}, {'products.brand': 'Body Glove'}, {'products.brand': 'Body Language Fashions'}, {'products.brand': 'Body Trends'}, {'products.brand': 'Body Wrap'}, {'products.brand': 'Body Wrappers'}, {'products.brand': 'Bohn'}, {'products.brand': 'Bolle'}, {'products.brand': 'Bolzano'}, {'products.brand': 'BonWorth'}, {'products.brand': 'Bonfire'}, {'products.brand': 'Bonus'}, {'products.brand': 'Bordeaux'}, {'products.brand': 'Boston Harbour'}, {'products.brand': 'Boston Industrial'}, {'products.brand': 'Botany 500'}, {'products.brand': 'Bottoms Out'}, {'products.brand': 'Boulder Creek'}, {'products.brand': 'Boutique 9'}, {'products.brand': 'Boxercraft'}, {'products.brand': 'Bra Discs'}, {'products.brand': 'Bradford Exchange'}, {'products.brand': 'Brand Q'}, {'products.brand': 'Brand Q Vest'}, {'products.brand': 'Brandy Melville'}, {'products.brand': 'Bravado'}, {'products.brand': 'Bravado! Designs'}, {'products.brand': 'Brave Soul'}, {'products.brand': 'Braveman'}, {'products.brand': 'Braza'}, {'products.brand': 'Breast is Best'}, {'products.brand': 'BridalPetticoat'}, {'products.brand': 'Bridgedale'}, {'products.brand': 'Briefly Stated'}, {'products.brand': 'Briggs'}, {'products.brand': 'Brighton'}, {'products.brand': 'Bristols 6'}, {'products.brand': 'Brixton'}, {'products.brand': 'Broner'}, {'products.brand': 'Brooklyn Industries'}, {'products.brand': 'Brooks'}, {'products.brand': 'Brooks Brothers'}, {'products.brand': 'Browning'}, {'products.brand': 'Bslingerie'}, {'products.brand': 'Buckle Down'}, {'products.brand': 'Buckwear'}, {'products.brand': 'Bud Light'}, {'products.brand': 'Buff'}, {'products.brand': 'Buffalo by David Bitton'}, {'products.brand': 'Bullhead'}, {'products.brand': 'Bundle Monster'}, {'products.brand': 'Bungalow'}, {'products.brand': 'Burlington Socks'}, {'products.brand': 'Burnside'}, {'products.brand': 'Burton'}, {'products.brand': 'Bus Stop'}, {'products.brand': 'Buxton'}, {'products.brand': 'C & C California'}, {'products.brand': 'C-IN2'}, {'products.brand': 'C-Panty'}, {'products.brand': 'C. Luce'}, {'products.brand': 'C.C. Exclusives'}, {'products.brand': 'C1RCA'}, {'products.brand': 'CANYON GUIDE'}, {'products.brand': 'CARRAIG DONN KNITWEAR'}, {'products.brand': 'CATAWBA'}, {'products.brand': 'CB'}, {'products.brand': 'CCV Inc'}, {'products.brand': 'CEP'}, {'products.brand': 'CEP Compression Socks'}, {'products.brand': 'CJ by Cookie Johnson'}, {'products.brand': 'COCO'}, {'products.brand': 'COLD PRUF'}, {'products.brand': 'COLD STORAGE'}, {'products.brand': 'COLDMASTER'}, {'products.brand': 'COOGI'}, {'products.brand': 'COOL-JAMS WICKING SLEEPWEAR'}, {'products.brand': 'CORDOVAN & GREY'}, {'products.brand': 'CTM'}, {'products.brand': 'CUA'}, {'products.brand': 'CUTE OPTIONS'}, {'products.brand': 'CW-X'}, {'products.brand': 'Cactus Fashion'}, {'products.brand': 'Call Of Duty'}, {'products.brand': 'Callaway'}, {'products.brand': 'Calvin Klein'}, {'products.brand': 'Calvin Klein Jeans'}, {'products.brand': 'Calvin Klein Performance'}, {'products.brand': 'Cameo'}, {'products.brand': 'Camilla and Marc'}, {'products.brand': 'Canada Goose'}, {'products.brand': 'Canari'}, {'products.brand': 'Candela'}, {'products.brand': 'Candies'}, {'products.brand': 'Canterbury of New Zealand'}, {'products.brand': 'Canvas'}, {'products.brand': 'Canyon Ridge'}, {'products.brand': 'Capelli New York'}, {'products.brand': 'Capezio'}, {'products.brand': 'Caravelli'}, {'products.brand': 'Cardi'}, {'products.brand': 'Cardi International'}, {'products.brand': 'Carhartt'}, {'products.brand': 'Caribbean Joe'}, {'products.brand': 'Carmen Marc Valvo'}, {'products.brand': 'Carnegie Hall'}, {'products.brand': 'Carnival'}, {'products.brand': 'Carol Wright Gifts'}, {'products.brand': 'Carole Hochman'}, {'products.brand': 'Carolyn Forsman'}, {'products.brand': 'Carraig Donn'}, {'products.brand': 'Carrera'}, {'products.brand': 'Carve Designs'}, {'products.brand': 'Case IH'}, {'products.brand': 'Cashmere Boutique'}, {'products.brand': 'Cashmere HS'}, {'products.brand': 'Cashmere Int'}, {'products.brand': 'Cashmere Pashmina Group'}, {'products.brand': 'Cashmere Selection'}, {'products.brand': 'Castaway Clothing Co.'}, {'products.brand': 'Casual Moments'}, {'products.brand': 'Casual Socks'}, {'products.brand': 'CasualMale'}, {'products.brand': 'Caterpillar'}, {'products.brand': 'Catherine Malandrino'}, {'products.brand': 'Cecico Clothing'}, {'products.brand': 'Cecilia de Rafael'}, {'products.brand': 'Celebrity Pink'}, {'products.brand': 'Celina'}, {'products.brand': 'Central Park'}, {'products.brand': 'ChalkTalkSPORTS'}, {'products.brand': 'Champion'}, {'products.brand': 'Chances R'}, {'products.brand': 'Chaos'}, {'products.brand': 'Chaps'}, {'products.brand': 'Charles River Apparel'}, {'products.brand': 'Chasse'}, {'products.brand': 'Chaus'}, {'products.brand': 'Cheap Monday'}, {'products.brand': 'Cheerleading Company'}, {'products.brand': 'Chelsea Studio'}, {'products.brand': 'Chemisettes by Anne'}, {'products.brand': 'Cherokee'}, {'products.brand': 'Chestnut Hill'}, {'products.brand': 'Chica Rica'}, {'products.brand': 'Christian Audigier'}, {'products.brand': 'Christmas Story'}, {'products.brand': 'Christopher Fischer'}, {'products.brand': 'Christopher Kelenc'}, {'products.brand': 'Christopher Walken'}, {'products.brand': 'Chuck'}, {'products.brand': 'Chyor'}, {'products.brand': 'Cianni'}, {'products.brand': 'Cinch'}, {'products.brand': 'Cinderella'}, {'products.brand': 'Cinema Etoile'}, {'products.brand': 'Citizen'}, {'products.brand': 'Citizens of Humanity'}, {'products.brand': 'City Hunter'}, {'products.brand': 'City Lights'}, {'products.brand': 'Civil Society'}, {'products.brand': 'Claeson'}, {'products.brand': 'Classics By Palmland'}, {'products.brand': 'Classroom Uniforms'}, {'products.brand': 'Cleo'}, {'products.brand': 'Clever'}, {'products.brand': 'Clever Travel Companion'}, {'products.brand': 'Cleverbrand'}, {'products.brand': 'Cloris Murphy'}, {'products.brand': 'ClosetOnline'}, {'products.brand': 'Cloudveil'}, {'products.brand': 'Club Room'}, {'products.brand': 'Cluny'}, {'products.brand': 'Coach'}, {'products.brand': 'Coal'}, {'products.brand': 'Coca-Cola'}, {'products.brand': 'Code V'}, {'products.brand': 'Cohesive'}, {'products.brand': 'ColdPruf'}, {'products.brand': 'Coldpruf'}, {'products.brand': 'Cole Haan'}, {'products.brand': 'Collection XIIX'}, {'products.brand': 'College Classics'}, {'products.brand': 'Colorado Clothing'}, {'products.brand': 'Colorado Timberline'}, {'products.brand': 'Coloriffics'}, {'products.brand': 'Columbia'}, {'products.brand': 'Comfort Choice'}, {'products.brand': 'Comfort Colors'}, {'products.brand': 'Comfort Zone'}, {'products.brand': 'ComfortWear'}, {'products.brand': 'Commando'}, {'products.brand': 'Company 81'}, {'products.brand': 'Comune'}, {'products.brand': 'Concepts Touchscreen Gloves'}, {'products.brand': 'Concitor'}, {'products.brand': 'Condessa'}, {'products.brand': 'Condor'}, {'products.brand': 'Connected'}, {'products.brand': 'Coobie'}, {'products.brand': 'Cool Kaftans'}, {'products.brand': 'Cool-jams Wicking Sleepwear'}, {'products.brand': 'Coolibar'}, {'products.brand': 'Coool'}, {'products.brand': 'Copper Cove'}, {'products.brand': 'Coquette'}, {'products.brand': 'Coral Bay'}, {'products.brand': 'Corcini'}, {'products.brand': 'CoreyLynnCalter'}]\n"
          ]
        }
      ]
    },
    {
      "cell_type": "code",
      "source": [
        "#Before we move on, here's a simple example of that. Let's print the first 10 rows.\n",
        "#This script is set up to always only look at the first column, assuming our Look returns 1 column.\n",
        "first_field = list(\n",
        "    data[0].keys()\n",
        "    )[0] #This looks at the first row of the data and returns the first field name. keys() returns a set, so we wrap it in list() to return an array.\n",
        "    \n",
        "for i in range(0,10):\n",
        "  print(i,data[i][first_field])\n",
        "\n",
        "#If we _know_ the name of the first field, why did we go to all this list(data[0].keys()[0]) trouble? Well, we know the name of the first field for ONE look. \n",
        "#This little trickery above makes it so that our script will always work for any Look, no matter what the name is, without having to edit the code."
      ],
      "metadata": {
        "colab": {
          "base_uri": "https://localhost:8080/"
        },
        "id": "wcksCCJoacA8",
        "outputId": "2c850c92-0fd3-475c-c382-7497123fe05e"
      },
      "execution_count": 7,
      "outputs": [
        {
          "output_type": "stream",
          "name": "stdout",
          "text": [
            "0 \n",
            "1 !it Jeans\n",
            "2 '47 Brand\n",
            "3 007Lingerie\n",
            "4 106Shades\n",
            "5 12XLShop Inc.\n",
            "6 180s\n",
            "7 1826\n",
            "8 1WorldSarong\n",
            "9 1veMoon\n"
          ]
        }
      ]
    }
  ]
}